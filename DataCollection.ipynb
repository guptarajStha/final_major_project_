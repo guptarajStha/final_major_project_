{
 "cells": [
  {
   "cell_type": "code",
   "execution_count": 1,
   "metadata": {},
   "outputs": [],
   "source": [
    "import mediapipe as mp \n",
    "import os \n",
    "import cv2"
   ]
  },
  {
   "cell_type": "markdown",
   "metadata": {},
   "source": [
    "MEDIAPIPE MODEL  INITIALIZTION"
   ]
  },
  {
   "cell_type": "code",
   "execution_count": 3,
   "metadata": {},
   "outputs": [],
   "source": [
    "mp_hands = mp.solutions.hands\n",
    "hands = mp_hands.Hands(static_image_mode = True, min_detection_confidence= 0.3,\n",
    "                       max_num_hands=1)\n",
    "mp_drawing = mp.solutions.drawing_utils\n",
    "mp_drawing_styles = mp.solutions.drawing_styles"
   ]
  },
  {
   "cell_type": "markdown",
   "metadata": {},
   "source": [
    "DIRECTORY FOR IMAGES"
   ]
  },
  {
   "cell_type": "code",
   "execution_count": 21,
   "metadata": {},
   "outputs": [],
   "source": [
    "original_img = './Image/'"
   ]
  },
  {
   "cell_type": "code",
   "execution_count": 22,
   "metadata": {},
   "outputs": [],
   "source": [
    "if not os.path.exists(original_img):\n",
    "    os.makedirs(os.path.join(original_img))"
   ]
  },
  {
   "cell_type": "code",
   "execution_count": 8,
   "metadata": {},
   "outputs": [],
   "source": [
    "# category =['अ','आ', 'इ', 'ई', 'उ', 'ऊ', 'ऋ', 'ए', 'ऐ', 'ओ', 'औ']"
   ]
  },
  {
   "cell_type": "code",
   "execution_count": 20,
   "metadata": {},
   "outputs": [],
   "source": [
    "category =['0','1', '2', '3', '4', '5', '6', '7', '8', '9', '10']"
   ]
  },
  {
   "cell_type": "code",
   "execution_count": 23,
   "metadata": {},
   "outputs": [
    {
     "data": {
      "text/plain": [
       "11"
      ]
     },
     "execution_count": 23,
     "metadata": {},
     "output_type": "execute_result"
    }
   ],
   "source": [
    "len(category)"
   ]
  },
  {
   "cell_type": "markdown",
   "metadata": {},
   "source": [
    "CREATING CATAGORY DIRECTORY"
   ]
  },
  {
   "cell_type": "code",
   "execution_count": 24,
   "metadata": {},
   "outputs": [],
   "source": [
    "for dir_ in category:\n",
    "    if not os.path.exists(os.path.join(original_img,str(dir_))):\n",
    "        os.makedirs(os.path.join(original_img,str(dir_)))"
   ]
  },
  {
   "cell_type": "markdown",
   "metadata": {},
   "source": [
    "DRAW A SQUARE BOX ON PALM"
   ]
  },
  {
   "cell_type": "code",
   "execution_count": 25,
   "metadata": {},
   "outputs": [],
   "source": [
    "def draw_square(frame,results,SQUARE_SIZE):\n",
    "    if results.multi_hand_landmarks:\n",
    "        hand_landmarks = results.multi_hand_landmarks[0]\n",
    "        \n",
    "        x = hand_landmarks.landmark[9].x * frame.shape[1]\n",
    "        y = hand_landmarks.landmark[9].y * frame.shape[0]\n",
    "        \n",
    "        w = hand_landmarks.landmark[12].x * frame.shape[1] - x \n",
    "        h = hand_landmarks.landmark[12].y * frame.shape[0] - y\n",
    "    \n",
    "        x_center = int(x )  \n",
    "        y_center = int(y)\n",
    "        \n",
    "        x1 = int(x_center - SQUARE_SIZE/2)\n",
    "        y1 = int(y_center - SQUARE_SIZE/2)\n",
    "        \n",
    "        cv2.rectangle(frame, (x1, y1), (x1 + SQUARE_SIZE, y1 + SQUARE_SIZE), \n",
    "                      (0, 255, 0), 2)"
   ]
  },
  {
   "cell_type": "markdown",
   "metadata": {},
   "source": [
    "LIVE IMAGE COLLECTION"
   ]
  },
  {
   "cell_type": "code",
   "execution_count": 27,
   "metadata": {},
   "outputs": [
    {
     "name": "stdout",
     "output_type": "stream",
     "text": [
      "5\n",
      "6\n",
      "7\n",
      "8\n",
      "9\n",
      "10\n",
      "11\n"
     ]
    }
   ],
   "source": [
    "cap = cv2.VideoCapture(0)\n",
    "count_img =0\n",
    "cap.set(cv2.CAP_PROP_FRAME_WIDTH,840)\n",
    "cap.set(cv2.CAP_PROP_FRAME_HEIGHT,840)\n",
    "SQUARE_SIZE = 300\n",
    "interrupt =-1\n",
    "while cap.isOpened():\n",
    "    ret,frame = cap.read()\n",
    "    image = frame.copy()\n",
    "    results = hands.process(cv2.cvtColor(frame, cv2.COLOR_BGR2RGB))\n",
    "    draw_square(frame,results,SQUARE_SIZE)    \n",
    "    \n",
    "    interrupt = cv2.waitKey(10)\n",
    "    if interrupt & 0xFF == 27: # esc key\n",
    "        break\n",
    "    \n",
    "    if interrupt & 0xFF == ord('0'):\n",
    "        cv2.imwrite(os.path.join(original_img,str(category[0]),'{}.jpg'.format(str(len(os.listdir(os.path.join(original_img,str(category[0]))))))),image)\n",
    "        print(len(os.listdir(os.path.join(original_img,str(category[0])))))\n",
    "        \n",
    "    if cv2.waitKey(1) & 0xFF == ord('1'):\n",
    "        cv2.imwrite(os.path.join(original_img,str(category[1]),'{}.jpg'.format(str(len(os.listdir(os.path.join(original_img,str(category[1]))))))),image)\n",
    "        print(str(len(os.listdir(os.path.join(original_img,str(category[1]))))))\n",
    "        \n",
    "    if cv2.waitKey(1) & 0xFF == ord('2'):\n",
    "        cv2.imwrite(os.path.join(original_img,str(category[2]),'{}.jpg'.format(str(len(os.listdir(os.path.join(original_img,str(category[2]))))))),image)\n",
    "        print(str(len(os.listdir(os.path.join(original_img,str(category[2]))))))\n",
    "    \n",
    "        \n",
    "    cv2.imshow('frame',frame)\n",
    "cap.release()\n",
    "cv2.destroyAllWindows()"
   ]
  },
  {
   "cell_type": "code",
   "execution_count": 19,
   "metadata": {},
   "outputs": [
    {
     "data": {
      "text/plain": [
       "'./Image/अ'"
      ]
     },
     "execution_count": 19,
     "metadata": {},
     "output_type": "execute_result"
    }
   ],
   "source": [
    "os.path.join(original_img,str(category[0]))"
   ]
  }
 ],
 "metadata": {
  "kernelspec": {
   "display_name": "Python 3",
   "language": "python",
   "name": "python3"
  },
  "language_info": {
   "codemirror_mode": {
    "name": "ipython",
    "version": 3
   },
   "file_extension": ".py",
   "mimetype": "text/x-python",
   "name": "python",
   "nbconvert_exporter": "python",
   "pygments_lexer": "ipython3",
   "version": "3.11.1"
  }
 },
 "nbformat": 4,
 "nbformat_minor": 2
}
